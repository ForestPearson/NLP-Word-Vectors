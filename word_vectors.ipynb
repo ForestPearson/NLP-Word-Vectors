{
 "cells": [
  {
   "cell_type": "markdown",
   "metadata": {
    "id": "4wwniVGOEa4o"
   },
   "source": [
    "# CS410/510 HW2: Exploring Word Vectors (10 points)\n",
    "\n",
    " \n",
    "\n",
    "Please read the README.txt in the same directory as this notebook for important setup information, especially if you are running this Jupyter notebook on your local machine. \n",
    "\n",
    "\n",
    "There's also an excellent resource on Python and Numpy [tutorial](https://cs231n.github.io/python-numpy-tutorial/) that might be helpful.\n",
    "\n",
    "\n",
    "Please make sure to save the notebook as you go along. Submission Instructions are located at the bottom of the notebook.\n",
    "\n",
    "\n",
    "Acknowledgements: This homework has been modeled after Stanford's CS224n.\n",
    "\n",
    "# Forest Pearson\n",
    "\n",
    "# 10/26/2022\n",
    "\n",
    "# CS410/510"
   ]
  },
  {
   "cell_type": "code",
   "execution_count": 1,
   "metadata": {
    "id": "qyfbNELlEa4u"
   },
   "outputs": [],
   "source": [
    "# All Import Statements Defined Here\n",
    "# Note: Do not add to this list.\n",
    "# ----------------\n",
    "\n",
    "import sys\n",
    "assert sys.version_info[0]==3\n",
    "assert sys.version_info[1] >= 5\n",
    "\n",
    "from gensim.models import KeyedVectors\n",
    "from gensim.test.utils import datapath\n",
    "import pprint\n",
    "import matplotlib.pyplot as plt\n",
    "plt.rcParams['figure.figsize'] = [10, 5]\n",
    "import nltk\n",
    "import numpy as np\n",
    "import random\n",
    "import scipy as sp\n",
    "from sklearn.decomposition import TruncatedSVD\n",
    "from sklearn.decomposition import PCA\n",
    "\n",
    "np.random.seed(0)\n",
    "random.seed(0)\n",
    "# ----------------"
   ]
  },
  {
   "cell_type": "markdown",
   "metadata": {
    "id": "K9MOJUOAEa4y"
   },
   "source": [
    "## Word Vectors\n",
    "\n",
    "Word Vectors are often used as a fundamental component for many downstream NLP tasks, e.g., text classification, question answering, text generation, translation, etc., so it is important to build some intuitions as to their strengths and weaknesses.\n",
    "\n",
    "The terms \"word vectors\" and \"word embeddings\" are often used interchangeably. The term \"embedding\" refers to the fact that we are encoding aspects of a word's meaning in a lower dimensional space. As [Wikipedia](https://en.wikipedia.org/wiki/Word_embedding) states, \"*conceptually it involves a mathematical embedding from a space with one dimension per word to a continuous vector space with a much lower dimension*\".\n",
    "\n",
    "\n",
    "Most word vector models start from the following idea: *You shall know a word by the company it keeps ([Firth, J. R. 1957:11](https://en.wikipedia.org/wiki/John_Rupert_Firth))*\n",
    "\n"
   ]
  },
  {
   "cell_type": "markdown",
   "metadata": {
    "id": "fmGIml7hEa45"
   },
   "source": [
    "## Loading word vectors\n",
    "\n",
    "Here, we shall explore the embeddings produced by word2vec and GloVe. \n",
    "\n",
    "First, we will explore word2vec. Later, you will replace word2vec with GloVe vectors. More information on pretrained models is here: https://radimrehurek.com/gensim/models/word2vec.html\n",
    "\n",
    "Run the following cells to load the word2vec vectors into memory. **Note**: If this is your first time to run these cells, i.e. download the embedding model, it will take a couple minutes to run. If you've run these cells before, rerunning them will load the model without redownloading it, which will take about 1 to 2 minutes."
   ]
  },
  {
   "cell_type": "code",
   "execution_count": 2,
   "metadata": {
    "id": "DLja5GKrEa46"
   },
   "outputs": [],
   "source": [
    "def load_embedding_model():\n",
    "    \"\"\" Load word2vec vectors\n",
    "        Return:\n",
    "            wv_from_bin: All embeddings, each lengh 300\n",
    "    \"\"\"\n",
    "    import gensim.downloader as api\n",
    "    #wv_from_bin = api.load(\"word2vec-google-news-300\") #this downloads the 300-dimensional word2vec vectors trained on Google News corpus, more here: https://radimrehurek.com/gensim/models/word2vec.html\n",
    "    wv_from_bin = api.load(\"glove-twitter-200\")\n",
    "    print(\"Loaded vocab size %i\" % len(wv_from_bin.key_to_index.keys()))\n",
    "    return wv_from_bin"
   ]
  },
  {
   "cell_type": "code",
   "execution_count": 3,
   "metadata": {
    "id": "lQwGrMFLEa46"
   },
   "outputs": [
    {
     "name": "stdout",
     "output_type": "stream",
     "text": [
      "Loaded vocab size 1193514\n"
     ]
    }
   ],
   "source": [
    "# -----------------------------------\n",
    "# Run Cell to Load Word Vectors\n",
    "# Note: This will take a couple of minutes\n",
    "# -----------------------------------\n",
    "wv_from_bin = load_embedding_model()"
   ]
  },
  {
   "cell_type": "markdown",
   "metadata": {
    "id": "3TrnS_EYEa46"
   },
   "source": [
    "#### Note: If you are receiving a \"reset by peer\" error, rerun the cell to restart the download. "
   ]
  },
  {
   "cell_type": "markdown",
   "metadata": {
    "id": "wyBycTNdEa47"
   },
   "source": [
    "### Reducing dimensionality of Word Embeddings\n",
    "Let's visualize the word embeddings. In order to avoid running out of memory, we will work with a sample of 10000 word vectors instead. Run the following cells to:\n",
    "\n",
    "1. Put 10000 word vectors into a matrix M\n",
    "2. Run `reduce_to_k_dim` (see Q1) to reduce the vectors from 300-dimensional to 2-dimensional."
   ]
  },
  {
   "cell_type": "code",
   "execution_count": 4,
   "metadata": {
    "id": "ggS8BZZkEa47"
   },
   "outputs": [],
   "source": [
    "def get_matrix_of_vectors(wv_from_bin, required_words=['portland', 'pacific', 'forest', 'ocean', 'city', 'food', 'green', 'weird', 'cool', 'oregon']):\n",
    "    \"\"\" Put the word2vec vectors into a matrix M.\n",
    "        Param:\n",
    "            wv_from_bin: KeyedVectors object; the 3000000 word2vec vectors loaded from file\n",
    "        Return:\n",
    "            M: numpy matrix shape (num words, 300) containing the vectors\n",
    "            word2ind: dictionary mapping each word to its row number in M\n",
    "    \"\"\"\n",
    "    import random\n",
    "    words = list(wv_from_bin.key_to_index.keys())\n",
    "    print(\"Shuffling words ...\")\n",
    "    random.seed(224)\n",
    "    random.shuffle(words)\n",
    "    words = words[:10000]\n",
    "    print(\"Putting %i words into word2ind and matrix M...\" % len(words))\n",
    "    word2ind = {}\n",
    "    M = []\n",
    "    curInd = 0\n",
    "    for w in words:\n",
    "        try:\n",
    "            M.append(wv_from_bin.get_vector(w))\n",
    "            word2ind[w] = curInd\n",
    "            curInd += 1\n",
    "        except KeyError:\n",
    "            continue\n",
    "    for w in required_words:\n",
    "        if w in words:\n",
    "            continue\n",
    "        try:\n",
    "            M.append(wv_from_bin.get_vector(w))\n",
    "            word2ind[w] = curInd\n",
    "            curInd += 1\n",
    "        except KeyError:\n",
    "            continue\n",
    "    M = np.stack(M)\n",
    "    print(\"Done.\")\n",
    "    return M, word2ind"
   ]
  },
  {
   "cell_type": "markdown",
   "metadata": {
    "id": "nCRQtJrFEa42"
   },
   "source": [
    "### **Question 1**: Implement `reduce_to_k_dim` [code] (0.5 point)\n",
    "\n",
    "Construct a method that performs dimensionality reduction on the matrix to produce k-dimensional embeddings. Use SVD to take the top k components and produce a new matrix of k-dimensional embeddings. \n",
    "\n",
    "**Note:** All of numpy, scipy, and scikit-learn (`sklearn`) provide *some* implementation of SVD, but only scipy and sklearn provide an implementation of Truncated SVD, and only sklearn provides an efficient randomized algorithm for calculating large-scale Truncated SVD. So please use [sklearn.decomposition.TruncatedSVD](https://scikit-learn.org/stable/modules/generated/sklearn.decomposition.TruncatedSVD.html)."
   ]
  },
  {
   "cell_type": "code",
   "execution_count": 5,
   "metadata": {
    "id": "1UCgD1tAEa43"
   },
   "outputs": [],
   "source": [
    "def reduce_to_k_dim(M, k=2):\n",
    "    \"\"\" Reduce a co-occurence count matrix of dimensionality (num_corpus_words, num_corpus_words)\n",
    "        to a matrix of dimensionality (num_corpus_words, k) using the following SVD function from Scikit-Learn:\n",
    "            - http://scikit-learn.org/stable/modules/generated/sklearn.decomposition.TruncatedSVD.html\n",
    "    \n",
    "        Params:\n",
    "            M (numpy matrix of shape (number of unique words in the corpus , number of unique words in the corpus)): co-occurence matrix of word counts\n",
    "            k (int): embedding size of each word after dimension reduction\n",
    "        Return:\n",
    "            M_reduced (numpy matrix of shape (number of corpus words, k)): matrix of k-dimensioal word embeddings.\n",
    "                    In terms of the SVD from math class, this actually returns U * S\n",
    "    \"\"\"    \n",
    "    n_iters = 10     # Use this parameter in your call to `TruncatedSVD`\n",
    "    M_reduced = None\n",
    "    print(\"Running Truncated SVD over %i words...\" % (M.shape[0]))\n",
    "    \n",
    "        # ------------------\n",
    "        # Write your implementation here.\n",
    "    svd = TruncatedSVD(n_components=k, n_iter=n_iters, random_state=0)\n",
    "    svd.fit(M)\n",
    "    M_reduced = svd.transform(M)\n",
    "        # ------------------\n",
    "\n",
    "    print(\"Done.\")\n",
    "    return M_reduced"
   ]
  },
  {
   "cell_type": "code",
   "execution_count": 6,
   "metadata": {
    "id": "34WXjr0fEa47"
   },
   "outputs": [
    {
     "name": "stdout",
     "output_type": "stream",
     "text": [
      "Shuffling words ...\n",
      "Putting 10000 words into word2ind and matrix M...\n",
      "Done.\n",
      "Running Truncated SVD over 10008 words...\n",
      "Done.\n"
     ]
    }
   ],
   "source": [
    "# -----------------------------------------------------------------\n",
    "# Run Cell to Reduce 300-Dimensional Word Embeddings to k Dimensions\n",
    "# Note: This should be quick to run\n",
    "# -----------------------------------------------------------------\n",
    "M, word2ind = get_matrix_of_vectors(wv_from_bin)\n",
    "M_reduced = reduce_to_k_dim(M, k=2)\n",
    "\n"
   ]
  },
  {
   "cell_type": "markdown",
   "metadata": {
    "id": "Oi0NRtphEa4_"
   },
   "source": [
    "**Note: If you are receiving out of memory issues on your local machine, try closing other applications to free more memory on your device. You may want to try restarting your machine so that you can free up extra memory. Then immediately run the jupyter notebook and see if you can load the word vectors properly. Or, try using Colab."
   ]
  },
  {
   "cell_type": "markdown",
   "metadata": {
    "id": "f9cQzntDEa43"
   },
   "source": [
    "### **Question 2**: Implement `plot_embeddings` [code] (1 point)\n",
    "\n",
    "Here you will write a function to plot a set of 2D vectors in 2D space. For graphs, we will use Matplotlib (`plt`).\n",
    "\n",
    "For this example, you may find it useful to adapt [this code](http://web.archive.org/web/20190924160434/https://www.pythonmembers.club/2018/05/08/matplotlib-scatter-plot-annotate-set-text-at-label-each-point/). In the future, a good way to make a plot is to look at [the Matplotlib gallery](https://matplotlib.org/gallery/index.html), find a plot that looks somewhat like what you want, and adapt the code they give."
   ]
  },
  {
   "cell_type": "code",
   "execution_count": 7,
   "metadata": {
    "id": "-xoUkY-mEa44"
   },
   "outputs": [],
   "source": [
    "def plot_embeddings(M_reduced, word2ind, words):\n",
    "    \"\"\" Plot in a scatterplot the embeddings of the words specified in the list \"words\".\n",
    "        NOTE: do not plot all the words listed in M_reduced / word2ind.\n",
    "        Include a label next to each point.\n",
    "        \n",
    "        Params:\n",
    "            M_reduced (numpy matrix of shape (number of unique words in the corpus , 2)): matrix of 2-dimensioal word embeddings\n",
    "            word2ind (dict): dictionary that maps word to indices for matrix M\n",
    "            words (list of strings): words whose embeddings we want to visualize\n",
    "    \"\"\"\n",
    "\n",
    "    # ------------------\n",
    "    # Write your implementation here.\n",
    "    for i,type in enumerate(words):\n",
    "        x = M_reduced[i,0]\n",
    "        y = M_reduced[i,1]\n",
    "        plt.scatter(x, y, marker='x', color='blue')\n",
    "        plt.text(x, y,type, fontsize=10)\n",
    "    plt.show()\n",
    "\n",
    "    # ------------------"
   ]
  },
  {
   "cell_type": "markdown",
   "metadata": {
    "id": "mn5hLXNEEa4_"
   },
   "source": [
    "### **Question 3**: word2vec Plot Analysis [written] (0.5 point)\n",
    "\n",
    "Run the cell below to plot the 2D word2vec embeddings for `['portland', 'pacific', 'forest', 'ocean', 'city', 'food', 'green', 'weird', 'cool', 'oregon']`.\n",
    "\n",
    "What clusters together in 2-dimensional embedding space? What doesn't cluster together that you think should have?"
   ]
  },
  {
   "cell_type": "code",
   "execution_count": 8,
   "metadata": {
    "id": "ZGmbcCvPEa4_",
    "scrolled": true
   },
   "outputs": [
    {
     "data": {
      "image/png": "[encoded data removed]",
      "text/plain": [
       "<Figure size 1000x500 with 1 Axes>"
      ]
     },
     "metadata": {},
     "output_type": "display_data"
    }
   ],
   "source": [
    "words = ['portland', 'pacific', 'forest', 'ocean', 'city', 'food', 'green', 'weird', 'cool', 'oregon']\n",
    "plot_embeddings(M_reduced, word2ind, words)"
   ]
  },
  {
   "cell_type": "markdown",
   "metadata": {
    "id": "be-gXaPWEa4_"
   },
   "source": [
    "#### <font color=\"red\">Write your answer here.</font>\n",
    "\n",
    "\"Oregon\" and \"city\" cluster\n",
    "\n",
    "\"Forest\" and \"weird\" cluster\n",
    "\n",
    "There is also a loose cluster of ocean,green,portland,weird and forest in the bottom right.\n",
    "\n",
    "Commonly used together words appear to be cluster together in this 2-dimensional space, food and portland don't cluster together however which I thought should have."
   ]
  },
  {
   "cell_type": "markdown",
   "metadata": {
    "id": "InBKs2UDbjw9"
   },
   "source": [
    "### **Question 4**: GloVe Twitter Plot Analysis [written] (1 point)\n",
    "\n",
    "\n",
    "In Section **Loading word vectors**, replace word2vec embeddings with GloVe Twitter 200-dimensional embeddings ''glove-twitter-200', and run all the cells again. \n",
    "\n",
    "And then run the cell below. What differences do you see in the GloVe embeddings as compared to word2vec embeddings?"
   ]
  },
  {
   "cell_type": "code",
   "execution_count": 9,
   "metadata": {
    "id": "uQLH4wJQbkYu"
   },
   "outputs": [
    {
     "data": {
      "image/png": "[encoded data removed]",
      "text/plain": [
       "<Figure size 1000x500 with 1 Axes>"
      ]
     },
     "metadata": {},
     "output_type": "display_data"
    }
   ],
   "source": [
    "words = ['portland', 'pacific', 'forest', 'ocean', 'city', 'food', 'green', 'weird', 'cool', 'oregon']\n",
    "plot_embeddings(M_reduced, word2ind, words)"
   ]
  },
  {
   "cell_type": "markdown",
   "metadata": {
    "id": "a_aBTDXFcedw"
   },
   "source": [
    "#### <font color=\"red\">Write your answer here.</font>\n",
    "\n",
    "\"city\" and \"pacific\" cluster\n",
    "\n",
    "\"oregon\" and \"cool\" make a very loose cluster.\n",
    "\n",
    "Clustering appears to be significantly sparser than the previous plot, what few groupings there are also don't appear to be based upon similarity in regards to usage as only one cluster \"City\" and \"pacific exists. The words also appear to be close to be on there way to an even dispersion."
   ]
  },
  {
   "cell_type": "markdown",
   "metadata": {
    "id": "3qy8DRwJcz-7"
   },
   "source": [
    "### **Note: For the following sections, you may choose to continue with GloVe embeddings, or reload the word2vec vectors.**\n",
    "\n",
    "---\n",
    "\n",
    "\n"
   ]
  },
  {
   "cell_type": "markdown",
   "metadata": {
    "id": "LVgqm_qmEa5A"
   },
   "source": [
    "### Cosine Similarity\n",
    "Now that we have word vectors, we need a way to quantify the similarity between individual words, according to these vectors. One such metric is cosine-similarity. We will be using this to find words that are \"close\" and \"far\" from one another.\n",
    "\n",
    "We can think of n-dimensional vectors as points in n-dimensional space. If we take this perspective [L1](http://mathworld.wolfram.com/L1-Norm.html) and [L2](http://mathworld.wolfram.com/L2-Norm.html) Distances help quantify the amount of space \"we must travel\" to get between these two points. Another approach is to examine the angle between two vectors. From trigonometry we know that:\n",
    "\n",
    "<img src=\"inner_product.png\" width=20% style=\"float: center;\"></img>\n",
    "\n",
    "Instead of computing the actual angle, we can compute the similarity in terms of $similarity = cos(\\Theta)$. Formally the [Cosine Similarity](https://en.wikipedia.org/wiki/Cosine_similarity) $s$ between two vectors $p$ and $q$ is defined as:\n",
    "\n",
    "$$s = \\frac{p \\cdot q}{||p|| ||q||}, \\textrm{ where } s \\in [-1, 1] $$ "
   ]
  },
  {
   "cell_type": "markdown",
   "metadata": {
    "id": "K13H1DFHEa5A"
   },
   "source": [
    "### **Question 5**: Words with Multiple Meanings  [code + written] (1 point)\n",
    "Polysemes and homonyms are words that have more than one meaning (see this [wiki page](https://en.wikipedia.org/wiki/Polysemy) to learn more about the difference between polysemes and homonyms ). Find a word with *at least two different meanings* such that the top-10 most similar words (according to cosine similarity) contain related words from *both* meanings. For example, \"leaves\" has both \"go_away\" and \"a_structure_of_a_plant\" meaning in the top 10, and \"scoop\" has both \"handed_waffle_cone\" and \"lowdown\". You will probably need to try several polysemous or homonymic words before you find one. \n",
    "\n",
    "Please state the word you discover and the multiple meanings that occur in the top 10. Why do you think many of the polysemous or homonymic words you tried didn't work (i.e. the top-10 most similar words only contain **one** of the meanings of the words)?\n",
    "\n",
    "**Note**: You should use the `wv_from_bin.most_similar(word)` function to get the top 10 similar words. This function ranks all other words in the vocabulary with respect to their cosine similarity to the given word. For further assistance, please check the __[GenSim documentation](https://radimrehurek.com/gensim/models/keyedvectors.html#gensim.models.keyedvectors.FastTextKeyedVectors.most_similar)__."
   ]
  },
  {
   "cell_type": "code",
   "execution_count": 10,
   "metadata": {
    "id": "ixC2fCG6Ea5A"
   },
   "outputs": [
    {
     "name": "stdout",
     "output_type": "stream",
     "text": [
      "[('way', 0.5125731229782104),\n",
      " ('others', 0.5036178827285767),\n",
      " ('direct', 0.49746689200401306),\n",
      " ('today', 0.4887634515762329),\n",
      " ('understand', 0.4855872094631195),\n",
      " ('yourself', 0.4837980568408966),\n",
      " ('experience', 0.48374396562576294),\n",
      " ('cannot', 0.48253774642944336),\n",
      " ('to', 0.4792821705341339),\n",
      " ('drive', 0.47786328196525574)]\n"
     ]
    }
   ],
   "source": [
    "    # ------------------\n",
    "    # Write your implementation here.\n",
    "    pprint.pprint(wv_from_bin.most_similar('express'))\n",
    "\n",
    "    # ------------------"
   ]
  },
  {
   "cell_type": "markdown",
   "metadata": {
    "id": "60AEbKqdEa5A"
   },
   "source": [
    "#### <font color=\"red\">Write your answer here.</font>\n",
    "The word I discovered with multiple meanings occuring was \"express\" with both \"understand\" and \"way/drive\" appearing. Showing its meanings of expressing ones self as well as being a direct way towards something. Some of the homonymic words I tried that didn't work such as \"air\" were likely due to the lack of use in their other forms I believe, with \"air\" in regards to voice being much rarer than oxygen."
   ]
  },
  {
   "cell_type": "markdown",
   "metadata": {
    "id": "Mz1P4SYGEa5A"
   },
   "source": [
    "### **Question 6**: Synonyms & Antonyms  [code + written] (1 point)\n",
    "\n",
    "When considering Cosine Similarity, it's often more convenient to think of Cosine Distance, which is simply 1 - Cosine Similarity.\n",
    "\n",
    "Find three words $(w_1,w_2,w_3)$ where $w_1$ and $w_2$ are synonyms and $w_1$ and $w_3$ are antonyms, but Cosine Distance $(w_1,w_3) <$ Cosine Distance $(w_1,w_2)$. \n",
    "\n",
    "As an example, $w_1$=\"happy\" is closer to $w_3$=\"sad\" than to $w_2$=\"excited\". Please find a different example that satisfies the above. Once you have found your example, please give a possible explanation for why this counter-intuitive result may have happened.\n",
    "\n",
    "You should use the the `wv_from_bin.distance(w1, w2)` function here in order to compute the cosine distance between two words. Please see the __[GenSim documentation](https://radimrehurek.com/gensim/models/keyedvectors.html#gensim.models.keyedvectors.FastTextKeyedVectors.distance)__ for further assistance."
   ]
  },
  {
   "cell_type": "code",
   "execution_count": 11,
   "metadata": {
    "id": "FFrMO2Y0Ea5B"
   },
   "outputs": [
    {
     "name": "stdout",
     "output_type": "stream",
     "text": [
      "Synonyms happy, cheerful have cosine distance: 0.6715888381004333\n",
      "Antonyms happy, sad have cosine distance: 0.4207085371017456\n"
     ]
    }
   ],
   "source": [
    "    # ------------------\n",
    "    # Write your implementation here.\n",
    "    w1 = \"happy\"\n",
    "    w2 = \"cheerful\"\n",
    "    w3 = \"sad\"\n",
    "    w1_w2 = wv_from_bin.distance(w1, w2)\n",
    "    w1_w3 = wv_from_bin.distance(w1, w3)\n",
    "\n",
    "    print(\"Synonyms {}, {} have cosine distance: {}\".format(w1, w2, w1_w2))\n",
    "    print(\"Antonyms {}, {} have cosine distance: {}\".format(w1, w3, w1_w3))\n",
    "\n",
    "\n",
    "    # ------------------"
   ]
  },
  {
   "cell_type": "markdown",
   "metadata": {
    "id": "Dt6_Rsd9Ea5B"
   },
   "source": [
    "#### <font color=\"red\">Write your answer here.</font>\n",
    "This may be because \"happy\" and \"sad\" as near opposites belong more directly to the same category such as a mood. Whereas while \"cheerful\" is a synonym it is generally used as an expression as opposed to a direct mood. So in a way dispite being antonyms w1 and w3 hold a closer relationship."
   ]
  },
  {
   "cell_type": "markdown",
   "metadata": {
    "id": "tAC9BXocEa5B"
   },
   "source": [
    "### **Question 7**: Analogies with Word Vectors [written] (1 point)\n",
    "Word vectors have been shown to *sometimes* exhibit the ability to solve analogies. \n",
    "\n",
    "As an example, for the analogy \"man : king :: woman : x\" (read: man is to king as woman is to x), what is x?\n",
    "\n",
    "In the cell below, we show you how to use word vectors to find x using the `most_similar` function from the __[GenSim documentation](https://radimrehurek.com/gensim/models/keyedvectors.html#gensim.models.keyedvectors.KeyedVectors.most_similar)__. The function finds words that are most similar to the words in the `positive` list and most dissimilar from the words in the `negative` list (while omitting the input words, which are often the most similar; see [this paper](https://www.aclweb.org/anthology/N18-2039.pdf)). The answer to the analogy will have the highest cosine similarity (largest returned numerical value)."
   ]
  },
  {
   "cell_type": "code",
   "execution_count": 12,
   "metadata": {
    "id": "uAXr6Ob6Ea5B"
   },
   "outputs": [
    {
     "name": "stdout",
     "output_type": "stream",
     "text": [
      "[('queen', 0.6820898652076721),\n",
      " ('prince', 0.5875527858734131),\n",
      " ('princess', 0.5620488524436951),\n",
      " ('royal', 0.5522865056991577),\n",
      " ('mother', 0.5362966656684875),\n",
      " ('elizabeth', 0.5142496228218079),\n",
      " ('lady', 0.5010437965393066),\n",
      " ('lion', 0.4998807907104492),\n",
      " ('women', 0.4985954761505127),\n",
      " ('’s', 0.49350738525390625)]\n"
     ]
    }
   ],
   "source": [
    "# Run this cell to answer the analogy -- man : king :: woman : x\n",
    "pprint.pprint(wv_from_bin.most_similar(positive=['woman', 'king'], negative=['man']))"
   ]
  },
  {
   "cell_type": "markdown",
   "metadata": {
    "id": "2AaXChc8Ea5B"
   },
   "source": [
    "Let $m$, $k$, $w$, and $x$ denote the word vectors for `man`, `king`, `woman`, and the answer, respectively. Using **only** vectors $m$, $k$, $w$, and the vector arithmetic operators $+$ and $-$ in your answer, what is the expression in which we are maximizing cosine similarity with $x$?\n",
    "\n",
    "Hint: Recall that word vectors are simply multi-dimensional vectors that represent a word. It might help to draw out a 2D example using arbitrary locations of each vector. Where would `man` and `woman` lie in the coordinate plane relative to `king` and the answer?"
   ]
  },
  {
   "cell_type": "markdown",
   "metadata": {
    "id": "96xSgT0xEa5B"
   },
   "source": [
    "#### <font color=\"red\">Write your answer here.</font>\n",
    "\n",
    "I believe the expression to maximize cosine similarity with x is as follows:\n",
    "\n",
    "k+w-m = x\n"
   ]
  },
  {
   "cell_type": "markdown",
   "metadata": {
    "id": "XWzOOni_Ea5C"
   },
   "source": [
    "### **Question 8**: Finding Analogies [code + written]  (0.5 point)\n",
    "Find an example of analogy that holds according to these vectors (i.e. the intended word is ranked top). In your solution please state the full analogy in the form x:y :: a:b. If you believe the analogy is complicated, explain why the analogy holds in one or two sentences.\n",
    "\n",
    "**Note**: You may have to try many analogies to find one that works!"
   ]
  },
  {
   "cell_type": "code",
   "execution_count": 13,
   "metadata": {
    "id": "PsRr1OwNEa5C"
   },
   "outputs": [
    {
     "name": "stdout",
     "output_type": "stream",
     "text": [
      "[('disappointed', 0.6433210968971252),\n",
      " ('exited', 0.6163683533668518),\n",
      " ('nervous', 0.6103032231330872),\n",
      " ('confused', 0.6069040894508362),\n",
      " ('upset', 0.6067692041397095),\n",
      " ('stoked', 0.6029214262962341),\n",
      " ('scared', 0.6023290157318115),\n",
      " ('depressing', 0.5995861887931824),\n",
      " ('seeing', 0.5941977500915527),\n",
      " ('seriously', 0.5897194743156433)]\n"
     ]
    }
   ],
   "source": [
    "    # ------------------\n",
    "    # Write your implementation here.\n",
    "    pprint.pprint(wv_from_bin.most_similar(positive=['excited', 'sad'], negative=['happy']))\n",
    "\n",
    "    # ------------------"
   ]
  },
  {
   "cell_type": "markdown",
   "metadata": {
    "id": "O3GXxOLVEa5C"
   },
   "source": [
    "#### <font color=\"red\">Write your answer here.</font>\n",
    "The analogy here is sad is to happy as excited is to dissapointed. This works since the difference is appropriately proportioanl for the topped ranked word, even if the rest would not fit for this analogy."
   ]
  },
  {
   "cell_type": "markdown",
   "metadata": {
    "id": "8fXaqGFaEa5C"
   },
   "source": [
    "### **Question 9**: Incorrect Analogy [code + written] (0.5 point)\n",
    "Find an example of analogy that does *not* hold according to these vectors. In your solution, state the intended analogy in the form x:y :: a:b, and state the (incorrect) value of b according to the word vectors."
   ]
  },
  {
   "cell_type": "code",
   "execution_count": 14,
   "metadata": {
    "id": "wA2zwxtTEa5C"
   },
   "outputs": [
    {
     "name": "stdout",
     "output_type": "stream",
     "text": [
      "[('warm', 0.534462034702301),\n",
      " ('cold', 0.5187898278236389),\n",
      " ('ice', 0.5030035972595215),\n",
      " ('ocean', 0.5004901885986328),\n",
      " ('sun', 0.490344762802124),\n",
      " ('ground', 0.4856540858745575),\n",
      " ('breeze', 0.4821156859397888),\n",
      " ('fresh', 0.4800889790058136),\n",
      " ('winter', 0.4792957901954651),\n",
      " ('clear', 0.4756501615047455)]\n"
     ]
    }
   ],
   "source": [
    "    # ------------------\n",
    "    # Write your implementation here.\n",
    "    pprint.pprint(wv_from_bin.most_similar(positive=['water', 'air'], negative=['gas']))\n",
    "\n",
    "    # ------------------"
   ]
  },
  {
   "cell_type": "markdown",
   "metadata": {
    "id": "th9u3Mf2Ea5C"
   },
   "source": [
    "#### <font color=\"red\">Write your answer here.</font>\n",
    "The intended analogy was air is to gas as water is to liquid, although liquid unfortunately didn't appear in the vector at all."
   ]
  },
  {
   "cell_type": "markdown",
   "metadata": {
    "id": "xqCf3SHMEa5D"
   },
   "source": [
    "### **Question 10**: Guided Analysis of Bias in Word Vectors [written] (1 point)\n",
    "\n",
    "It's important to be cognizant of the biases (gender, race, sexual orientation etc.) implicit in our word embeddings. Bias can be dangerous because it can reinforce stereotypes through applications that employ these models.\n",
    "\n",
    "Run the cell below, to examine (a) which terms are most similar to \"woman\" and \"worker\" and most dissimilar to \"man\", and (b) which terms are most similar to \"man\" and \"worker\" and most dissimilar to \"woman\". Point out the difference between the list of female-associated words and the list of male-associated words, and explain how it is reflecting gender bias."
   ]
  },
  {
   "cell_type": "code",
   "execution_count": 15,
   "metadata": {
    "id": "67-UyfoEEa5D"
   },
   "outputs": [
    {
     "name": "stdout",
     "output_type": "stream",
     "text": [
      "[('workers', 0.6558226943016052),\n",
      " ('employee', 0.6185225248336792),\n",
      " ('employees', 0.5715726017951965),\n",
      " ('harassment', 0.4798278212547302),\n",
      " ('officer', 0.47716623544692993),\n",
      " ('customer', 0.4707620143890381),\n",
      " ('nurse', 0.4612692594528198),\n",
      " ('receptionist', 0.46062034368515015),\n",
      " ('representative', 0.4583805203437805),\n",
      " ('nurses', 0.4579216539859772)]\n",
      "\n",
      "[('workers', 0.5465855002403259),\n",
      " ('manager', 0.49535703659057617),\n",
      " ('job', 0.4911527931690216),\n",
      " ('vet', 0.48087990283966064),\n",
      " ('staff', 0.4772389531135559),\n",
      " ('employee', 0.46296149492263794),\n",
      " ('officer', 0.45800545811653137),\n",
      " ('was', 0.44496339559555054),\n",
      " ('wages', 0.44081082940101624),\n",
      " ('construction', 0.4403908848762512)]\n"
     ]
    }
   ],
   "source": [
    "# Run this cell\n",
    "# Here `positive` indicates the list of words to be similar to and `negative` indicates the list of words to be\n",
    "# most dissimilar from.\n",
    "pprint.pprint(wv_from_bin.most_similar(positive=['woman', 'worker'], negative=['man']))\n",
    "print()\n",
    "pprint.pprint(wv_from_bin.most_similar(positive=['man', 'worker'], negative=['woman']))"
   ]
  },
  {
   "cell_type": "markdown",
   "metadata": {
    "id": "_3TsG0JTEa5D"
   },
   "source": [
    "#### <font color=\"red\">Write your answer here.</font>\n",
    "Differences here can be seen as postions such as \"employee\" and careers such as \"nurse\"/\"receptionist\" showing up in the \"woman worker\" vector. While in the \"man worker\" vector \"manager\" for position and \"vet\"/\"construction\" showing up. This unfortunately appears to play off of gender steriotypes, reinforcing such as bias."
   ]
  },
  {
   "cell_type": "markdown",
   "metadata": {
    "id": "eQxVwuRxEa5D"
   },
   "source": [
    "### **Question 11**: Independent Analysis of Bias in Word Vectors [code + written]  (1 point)\n",
    "\n",
    "Use the `most_similar` function to find another case where some bias is exhibited by the vectors. Please briefly explain the example of bias that you discover."
   ]
  },
  {
   "cell_type": "code",
   "execution_count": null,
   "metadata": {
    "id": "pHhONBaPEa5D"
   },
   "outputs": [],
   "source": [
    "    # ------------------\n",
    "    # Write your implementation here.\n",
    "    pprint.pprint(wv_from_bin.most_similar(positive=['woman', 'teacher'], negative=['man']))\n",
    "    print()\n",
    "    pprint.pprint(wv_from_bin.most_similar(positive=['man', 'teacher'], negative=['woman']))\n",
    "\n",
    "    # ------------------"
   ]
  },
  {
   "cell_type": "markdown",
   "metadata": {
    "id": "i8uB_wEHEa5E"
   },
   "source": [
    "#### <font color=\"red\">Write your answer here.</font>\n",
    "\n",
    "Here we can see bias in the perception of teachers by gender. With 'man' and 'teacher' coming up with'professor','math','tutor'. Whereas 'woman' and 'teacher' come up with 'student' 'teachers' and 'mother'. Showing a percieved bias in men and women in teadching that may unfortunately be exacerbated by bias's such as this if not accounted for."
   ]
  },
  {
   "cell_type": "markdown",
   "metadata": {
    "id": "RDtHxopvEa5E"
   },
   "source": [
    "### **Question 12**: Thinking About Bias [written] (1 point)\n",
    "\n",
    "Give one explanation for how bias gets into the word vectors. What is an experiment that you could do to test for or to measure this source of bias?"
   ]
  },
  {
   "cell_type": "raw",
   "metadata": {
    "id": "Bpzs1zRuEa5E"
   },
   "source": [
    "#### <font color=\"red\">Write your answer here.</font>\n",
    "\n",
    "Bias may appear in word vectors simply due to their appearance in societies around the globe that propegate them or isolated online comunities that do the same. Excessive discussion of such topics may also skew analysis due to the wide range of discouse shown. Both of these combined with the possibility of encountering isolated small datasets would likely lead to bias occuring within word vectors.\n",
    "\n",
    "A way to detect such bias may be to avoid small datasets from single sources while measureing from multiple sources with varying confidence levels. These would be in large sample sizes in order to provide the oppotunity to more accurately audit the results in search of bias. This would also allow us to see what outliers may exist among the tested datasets."
   ]
  },
  {
   "cell_type": "markdown",
   "metadata": {
    "id": "tIjgFwuOEa5E"
   },
   "source": [
    "# <font color=\"blue\"> Submission Instructions</font>\n",
    "\n",
    "When you are satified with your results, you can submit this assignment by doing the following:\n",
    "\n",
    "1. Click the Save button at the top of the Jupyter Notebook.\n",
    "\n",
    "2. Add your name and PSU ID # at the top.\n",
    "\n",
    "3. **For Colab**: \n",
    "\n",
    "(i) Select *Edit > Clear All Outputs*.\n",
    "\n",
    "(ii) Click *Runtime > Restart and Run All*.\n",
    "\n",
    "\n",
    "(iii) Click *File > Print* and print to PDF. Name the file hw#_[odin_userid].pdf (for example Homework 1 for Kai River might be hw1_kriver.pdf)\n",
    "   \n",
    "3. **For Jupyter running on local machine**:\n",
    "\n",
    "(i) Select *Cell -> All Output -> Clear*. This will clear all the outputs from all cells (but will keep the content of all cells).\n",
    "\n",
    "(ii) Select *Cell -> Run All*. This will run all the cells in order, and will take several minutes.\n",
    "\n",
    "(iii) Once you've rerun everything, select *File -> Download as -> PDF via LaTeX*.\n",
    "\n",
    "\n",
    "4. Look at the PDF file and make sure all your solutions are there, displayed correctly.\n",
    "\n",
    "5. Also download your .ipynb.\n",
    "\n",
    "5. Submit both the PDF file and the Jupyter notebook (.ipynb) on Canvas under *Assignments* under the appropriate assignment."
   ]
  }
 ],
 "metadata": {
  "anaconda-cloud": {},
  "colab": {
   "collapsed_sections": [],
   "provenance": []
  },
  "kernelspec": {
   "display_name": "nlp",
   "language": "python",
   "name": "nlp"
  },
  "language_info": {
   "codemirror_mode": {
    "name": "ipython",
    "version": 3
   },
   "file_extension": ".py",
   "mimetype": "text/x-python",
   "name": "python",
   "nbconvert_exporter": "python",
   "pygments_lexer": "ipython3",
   "version": "3.7.13"
  }
 },
 "nbformat": 4,
 "nbformat_minor": 1
}
